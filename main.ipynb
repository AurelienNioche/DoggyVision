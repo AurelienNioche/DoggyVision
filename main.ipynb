{
 "cells": [
  {
   "cell_type": "code",
   "execution_count": 2,
   "id": "d5a9fb7e",
   "metadata": {},
   "outputs": [],
   "source": [
    "import pandas as pd\n",
    "import numpy as np\n",
    "from scipy.stats import sem\n",
    "from matplotlib import pyplot as plt"
   ]
  },
  {
   "cell_type": "code",
   "execution_count": 3,
   "id": "906528a1",
   "metadata": {},
   "outputs": [
    {
     "data": {
      "text/html": [
       "<div>\n",
       "<style scoped>\n",
       "    .dataframe tbody tr th:only-of-type {\n",
       "        vertical-align: middle;\n",
       "    }\n",
       "\n",
       "    .dataframe tbody tr th {\n",
       "        vertical-align: top;\n",
       "    }\n",
       "\n",
       "    .dataframe thead th {\n",
       "        text-align: right;\n",
       "    }\n",
       "</style>\n",
       "<table border=\"1\" class=\"dataframe\">\n",
       "  <thead>\n",
       "    <tr style=\"text-align: right;\">\n",
       "      <th></th>\n",
       "      <th>day</th>\n",
       "      <th>date</th>\n",
       "      <th>time</th>\n",
       "      <th>seconds</th>\n",
       "      <th>video</th>\n",
       "    </tr>\n",
       "  </thead>\n",
       "  <tbody>\n",
       "    <tr>\n",
       "      <th>0</th>\n",
       "      <td>1</td>\n",
       "      <td>14/08/2021</td>\n",
       "      <td>11:02:20</td>\n",
       "      <td>6</td>\n",
       "      <td>Over Dubai</td>\n",
       "    </tr>\n",
       "    <tr>\n",
       "      <th>1</th>\n",
       "      <td>1</td>\n",
       "      <td>14/08/2021</td>\n",
       "      <td>19:41:28</td>\n",
       "      <td>41</td>\n",
       "      <td>Abstract - Canyon</td>\n",
       "    </tr>\n",
       "    <tr>\n",
       "      <th>2</th>\n",
       "      <td>3</td>\n",
       "      <td>16/08/2021</td>\n",
       "      <td>11:08:39</td>\n",
       "      <td>5</td>\n",
       "      <td>Dog POV</td>\n",
       "    </tr>\n",
       "    <tr>\n",
       "      <th>3</th>\n",
       "      <td>4</td>\n",
       "      <td>17/08/2021</td>\n",
       "      <td>11:49:42</td>\n",
       "      <td>642</td>\n",
       "      <td>Black hole video</td>\n",
       "    </tr>\n",
       "    <tr>\n",
       "      <th>4</th>\n",
       "      <td>4</td>\n",
       "      <td>17/08/2021</td>\n",
       "      <td>19:16:06</td>\n",
       "      <td>500</td>\n",
       "      <td>Two guys on a boat</td>\n",
       "    </tr>\n",
       "    <tr>\n",
       "      <th>...</th>\n",
       "      <td>...</td>\n",
       "      <td>...</td>\n",
       "      <td>...</td>\n",
       "      <td>...</td>\n",
       "      <td>...</td>\n",
       "    </tr>\n",
       "    <tr>\n",
       "      <th>361</th>\n",
       "      <td>169</td>\n",
       "      <td>19/02/2022</td>\n",
       "      <td>19:54:34</td>\n",
       "      <td>2</td>\n",
       "      <td>Abstract - Canyon</td>\n",
       "    </tr>\n",
       "    <tr>\n",
       "      <th>362</th>\n",
       "      <td>169</td>\n",
       "      <td>19/02/2022</td>\n",
       "      <td>19:56:38</td>\n",
       "      <td>10</td>\n",
       "      <td>Beach video</td>\n",
       "    </tr>\n",
       "    <tr>\n",
       "      <th>363</th>\n",
       "      <td>169</td>\n",
       "      <td>19/02/2022</td>\n",
       "      <td>20:05:50</td>\n",
       "      <td>6</td>\n",
       "      <td>Temple</td>\n",
       "    </tr>\n",
       "    <tr>\n",
       "      <th>364</th>\n",
       "      <td>169</td>\n",
       "      <td>19/02/2022</td>\n",
       "      <td>21:13:47</td>\n",
       "      <td>8</td>\n",
       "      <td>Shower falls</td>\n",
       "    </tr>\n",
       "    <tr>\n",
       "      <th>365</th>\n",
       "      <td>169</td>\n",
       "      <td>19/02/2022</td>\n",
       "      <td>21:16:13</td>\n",
       "      <td>3</td>\n",
       "      <td>Lions</td>\n",
       "    </tr>\n",
       "  </tbody>\n",
       "</table>\n",
       "<p>366 rows × 5 columns</p>\n",
       "</div>"
      ],
      "text/plain": [
       "     day        date      time  seconds               video\n",
       "0      1  14/08/2021  11:02:20        6          Over Dubai\n",
       "1      1  14/08/2021  19:41:28       41   Abstract - Canyon\n",
       "2      3  16/08/2021  11:08:39        5             Dog POV\n",
       "3      4  17/08/2021  11:49:42      642    Black hole video\n",
       "4      4  17/08/2021  19:16:06      500  Two guys on a boat\n",
       "..   ...         ...       ...      ...                 ...\n",
       "361  169  19/02/2022  19:54:34        2   Abstract - Canyon\n",
       "362  169  19/02/2022  19:56:38       10         Beach video\n",
       "363  169  19/02/2022  20:05:50        6              Temple\n",
       "364  169  19/02/2022  21:13:47        8        Shower falls\n",
       "365  169  19/02/2022  21:16:13        3               Lions\n",
       "\n",
       "[366 rows x 5 columns]"
      ]
     },
     "execution_count": 3,
     "metadata": {},
     "output_type": "execute_result"
    }
   ],
   "source": [
    "df = pd.read_csv(\"data/data.csv\", index_col=0)\n",
    "df = df.drop(df[df.time == \"/\"].index)\n",
    "df = df.drop(df[df.video == \"/\"].index)\n",
    "df = df.dropna()\n",
    "df = df.reset_index()\n",
    "df.seconds = pd.to_numeric(df.seconds)\n",
    "df"
   ]
  },
  {
   "cell_type": "code",
   "execution_count": 4,
   "id": "cad4215f",
   "metadata": {},
   "outputs": [
    {
     "data": {
      "text/plain": [
       "23"
      ]
     },
     "execution_count": 4,
     "metadata": {},
     "output_type": "execute_result"
    }
   ],
   "source": [
    "n_video = len(df.video.unique())\n",
    "n_video"
   ]
  },
  {
   "cell_type": "code",
   "execution_count": 5,
   "id": "e5b25a82",
   "metadata": {
    "scrolled": true
   },
   "outputs": [
    {
     "data": {
      "text/html": [
       "<div>\n",
       "<style scoped>\n",
       "    .dataframe tbody tr th:only-of-type {\n",
       "        vertical-align: middle;\n",
       "    }\n",
       "\n",
       "    .dataframe tbody tr th {\n",
       "        vertical-align: top;\n",
       "    }\n",
       "\n",
       "    .dataframe thead th {\n",
       "        text-align: right;\n",
       "    }\n",
       "</style>\n",
       "<table border=\"1\" class=\"dataframe\">\n",
       "  <thead>\n",
       "    <tr style=\"text-align: right;\">\n",
       "      <th></th>\n",
       "      <th>video</th>\n",
       "      <th>camera_movement</th>\n",
       "      <th>content_movement</th>\n",
       "      <th>color</th>\n",
       "      <th>content_type</th>\n",
       "    </tr>\n",
       "  </thead>\n",
       "  <tbody>\n",
       "    <tr>\n",
       "      <th>0</th>\n",
       "      <td>Abstract - Canyon</td>\n",
       "      <td>fast</td>\n",
       "      <td>fast</td>\n",
       "      <td>changing</td>\n",
       "      <td>abstract</td>\n",
       "    </tr>\n",
       "    <tr>\n",
       "      <th>1</th>\n",
       "      <td>Angel falls</td>\n",
       "      <td>slow</td>\n",
       "      <td>slow</td>\n",
       "      <td>changing</td>\n",
       "      <td>nature</td>\n",
       "    </tr>\n",
       "    <tr>\n",
       "      <th>2</th>\n",
       "      <td>Bavarian Alps</td>\n",
       "      <td>still</td>\n",
       "      <td>fast</td>\n",
       "      <td>static</td>\n",
       "      <td>nature</td>\n",
       "    </tr>\n",
       "    <tr>\n",
       "      <th>3</th>\n",
       "      <td>Barcelona</td>\n",
       "      <td>cut</td>\n",
       "      <td>medium</td>\n",
       "      <td>changing</td>\n",
       "      <td>city</td>\n",
       "    </tr>\n",
       "    <tr>\n",
       "      <th>4</th>\n",
       "      <td>Beach video</td>\n",
       "      <td>slow</td>\n",
       "      <td>slow</td>\n",
       "      <td>static</td>\n",
       "      <td>nature</td>\n",
       "    </tr>\n",
       "    <tr>\n",
       "      <th>5</th>\n",
       "      <td>Black hole video</td>\n",
       "      <td>slow</td>\n",
       "      <td>slow</td>\n",
       "      <td>static</td>\n",
       "      <td>abstract</td>\n",
       "    </tr>\n",
       "    <tr>\n",
       "      <th>6</th>\n",
       "      <td>Blue whale</td>\n",
       "      <td>still</td>\n",
       "      <td>fast</td>\n",
       "      <td>static</td>\n",
       "      <td>animal</td>\n",
       "    </tr>\n",
       "    <tr>\n",
       "      <th>7</th>\n",
       "      <td>Dog POV</td>\n",
       "      <td>fast</td>\n",
       "      <td>fast</td>\n",
       "      <td>changing</td>\n",
       "      <td>animal</td>\n",
       "    </tr>\n",
       "    <tr>\n",
       "      <th>8</th>\n",
       "      <td>Dog shelter</td>\n",
       "      <td>cut</td>\n",
       "      <td>medium</td>\n",
       "      <td>changing</td>\n",
       "      <td>animal</td>\n",
       "    </tr>\n",
       "    <tr>\n",
       "      <th>9</th>\n",
       "      <td>Dog sled</td>\n",
       "      <td>slow</td>\n",
       "      <td>fast</td>\n",
       "      <td>static</td>\n",
       "      <td>animal</td>\n",
       "    </tr>\n",
       "    <tr>\n",
       "      <th>10</th>\n",
       "      <td>Dolphins playing</td>\n",
       "      <td>slow</td>\n",
       "      <td>medium</td>\n",
       "      <td>static</td>\n",
       "      <td>water</td>\n",
       "    </tr>\n",
       "    <tr>\n",
       "      <th>11</th>\n",
       "      <td>Dreams of Dali</td>\n",
       "      <td>fast</td>\n",
       "      <td>slow</td>\n",
       "      <td>static</td>\n",
       "      <td>abstract</td>\n",
       "    </tr>\n",
       "    <tr>\n",
       "      <th>12</th>\n",
       "      <td>Over Dubai</td>\n",
       "      <td>fast</td>\n",
       "      <td>slow</td>\n",
       "      <td>static</td>\n",
       "      <td>sky</td>\n",
       "    </tr>\n",
       "    <tr>\n",
       "      <th>13</th>\n",
       "      <td>Flying into the sky</td>\n",
       "      <td>slow</td>\n",
       "      <td>fast</td>\n",
       "      <td>changing</td>\n",
       "      <td>sky</td>\n",
       "    </tr>\n",
       "    <tr>\n",
       "      <th>14</th>\n",
       "      <td>Lions</td>\n",
       "      <td>cut</td>\n",
       "      <td>slow</td>\n",
       "      <td>changing</td>\n",
       "      <td>animal</td>\n",
       "    </tr>\n",
       "    <tr>\n",
       "      <th>15</th>\n",
       "      <td>London park</td>\n",
       "      <td>medium</td>\n",
       "      <td>medium</td>\n",
       "      <td>static</td>\n",
       "      <td>nature</td>\n",
       "    </tr>\n",
       "    <tr>\n",
       "      <th>16</th>\n",
       "      <td>Nature sounds</td>\n",
       "      <td>cut</td>\n",
       "      <td>slow</td>\n",
       "      <td>changing</td>\n",
       "      <td>nature</td>\n",
       "    </tr>\n",
       "    <tr>\n",
       "      <th>17</th>\n",
       "      <td>NYC</td>\n",
       "      <td>fast</td>\n",
       "      <td>fast</td>\n",
       "      <td>changing</td>\n",
       "      <td>city</td>\n",
       "    </tr>\n",
       "    <tr>\n",
       "      <th>18</th>\n",
       "      <td>Rhinos</td>\n",
       "      <td>still</td>\n",
       "      <td>medium</td>\n",
       "      <td>static</td>\n",
       "      <td>animal</td>\n",
       "    </tr>\n",
       "    <tr>\n",
       "      <th>19</th>\n",
       "      <td>Sea video</td>\n",
       "      <td>medium</td>\n",
       "      <td>medium</td>\n",
       "      <td>static</td>\n",
       "      <td>water</td>\n",
       "    </tr>\n",
       "    <tr>\n",
       "      <th>20</th>\n",
       "      <td>Shower falls</td>\n",
       "      <td>still</td>\n",
       "      <td>fast</td>\n",
       "      <td>static</td>\n",
       "      <td>nature</td>\n",
       "    </tr>\n",
       "    <tr>\n",
       "      <th>21</th>\n",
       "      <td>Temple</td>\n",
       "      <td>slow</td>\n",
       "      <td>medium</td>\n",
       "      <td>changing</td>\n",
       "      <td>nature</td>\n",
       "    </tr>\n",
       "    <tr>\n",
       "      <th>22</th>\n",
       "      <td>Two guys on a boat</td>\n",
       "      <td>medium</td>\n",
       "      <td>medium</td>\n",
       "      <td>changing</td>\n",
       "      <td>water</td>\n",
       "    </tr>\n",
       "  </tbody>\n",
       "</table>\n",
       "</div>"
      ],
      "text/plain": [
       "                  video camera_movement content_movement     color  \\\n",
       "0     Abstract - Canyon            fast             fast  changing   \n",
       "1           Angel falls            slow             slow  changing   \n",
       "2         Bavarian Alps           still             fast    static   \n",
       "3             Barcelona             cut           medium  changing   \n",
       "4           Beach video            slow             slow    static   \n",
       "5      Black hole video            slow             slow    static   \n",
       "6            Blue whale           still             fast    static   \n",
       "7               Dog POV            fast             fast  changing   \n",
       "8           Dog shelter             cut           medium  changing   \n",
       "9              Dog sled            slow             fast    static   \n",
       "10     Dolphins playing            slow           medium    static   \n",
       "11       Dreams of Dali            fast             slow    static   \n",
       "12           Over Dubai            fast             slow    static   \n",
       "13  Flying into the sky            slow             fast  changing   \n",
       "14                Lions             cut             slow  changing   \n",
       "15          London park          medium           medium    static   \n",
       "16        Nature sounds             cut             slow  changing   \n",
       "17                  NYC            fast             fast  changing   \n",
       "18               Rhinos           still           medium    static   \n",
       "19            Sea video          medium           medium    static   \n",
       "20         Shower falls           still             fast    static   \n",
       "21               Temple            slow           medium  changing   \n",
       "22   Two guys on a boat          medium           medium  changing   \n",
       "\n",
       "   content_type  \n",
       "0      abstract  \n",
       "1        nature  \n",
       "2        nature  \n",
       "3          city  \n",
       "4        nature  \n",
       "5      abstract  \n",
       "6        animal  \n",
       "7        animal  \n",
       "8        animal  \n",
       "9        animal  \n",
       "10        water  \n",
       "11     abstract  \n",
       "12          sky  \n",
       "13          sky  \n",
       "14       animal  \n",
       "15       nature  \n",
       "16       nature  \n",
       "17         city  \n",
       "18       animal  \n",
       "19        water  \n",
       "20       nature  \n",
       "21       nature  \n",
       "22        water  "
      ]
     },
     "execution_count": 5,
     "metadata": {},
     "output_type": "execute_result"
    }
   ],
   "source": [
    "df_labels = pd.read_csv(\"data/video_labels_05072022.csv\")\n",
    "df_labels"
   ]
  },
  {
   "cell_type": "code",
   "execution_count": 6,
   "id": "1ca90575",
   "metadata": {},
   "outputs": [],
   "source": [
    "video_list = df.video.unique()\n",
    "video_labels = np.asarray(df_labels.video)"
   ]
  },
  {
   "cell_type": "code",
   "execution_count": 7,
   "id": "7c1d4b7e",
   "metadata": {},
   "outputs": [],
   "source": [
    "for v in video_list:\n",
    "    if v not in video_labels:\n",
    "        print(v)"
   ]
  },
  {
   "cell_type": "code",
   "execution_count": 8,
   "id": "77eb8544",
   "metadata": {},
   "outputs": [
    {
     "data": {
      "image/png": "[encoded data removed]",
      "text/plain": [
       "<Figure size 432x288 with 1 Axes>"
      ]
     },
     "metadata": {
      "image/png": {
       "height": 349,
       "width": 375
      },
      "needs_background": "light"
     },
     "output_type": "display_data"
    }
   ],
   "source": [
    "df.groupby('video')['seconds'].mean().sort_values().plot.bar();"
   ]
  },
  {
   "cell_type": "code",
   "execution_count": 9,
   "id": "b9dc7a36",
   "metadata": {},
   "outputs": [
    {
     "data": {
      "text/plain": [
       "['camera_movement', 'content_movement', 'color', 'content_type']"
      ]
     },
     "execution_count": 9,
     "metadata": {},
     "output_type": "execute_result"
    }
   ],
   "source": [
    "label_categories = df_labels.columns.to_list()[1:]\n",
    "label_categories"
   ]
  },
  {
   "cell_type": "code",
   "execution_count": 10,
   "id": "1b40d3fa",
   "metadata": {},
   "outputs": [
    {
     "data": {
      "text/plain": [
       "'fast'"
      ]
     },
     "execution_count": 10,
     "metadata": {},
     "output_type": "execute_result"
    }
   ],
   "source": [
    "df_labels[df_labels[\"video\"]== \"Over Dubai\"][\"camera_movement\"].values[0]"
   ]
  },
  {
   "cell_type": "code",
   "execution_count": 11,
   "id": "3881acd3",
   "metadata": {},
   "outputs": [],
   "source": [
    "for index, row in df.iterrows():\n",
    "    for cat in label_categories:\n",
    "        label = df_labels[df_labels[\"video\"] == row.video][cat].values[0]\n",
    "        df.loc[index, cat] = label"
   ]
  },
  {
   "cell_type": "code",
   "execution_count": 12,
   "id": "8c5ff69f",
   "metadata": {},
   "outputs": [
    {
     "data": {
      "text/html": [
       "<div>\n",
       "<style scoped>\n",
       "    .dataframe tbody tr th:only-of-type {\n",
       "        vertical-align: middle;\n",
       "    }\n",
       "\n",
       "    .dataframe tbody tr th {\n",
       "        vertical-align: top;\n",
       "    }\n",
       "\n",
       "    .dataframe thead th {\n",
       "        text-align: right;\n",
       "    }\n",
       "</style>\n",
       "<table border=\"1\" class=\"dataframe\">\n",
       "  <thead>\n",
       "    <tr style=\"text-align: right;\">\n",
       "      <th></th>\n",
       "      <th>day</th>\n",
       "      <th>date</th>\n",
       "      <th>time</th>\n",
       "      <th>seconds</th>\n",
       "      <th>video</th>\n",
       "      <th>camera_movement</th>\n",
       "      <th>content_movement</th>\n",
       "      <th>color</th>\n",
       "      <th>content_type</th>\n",
       "    </tr>\n",
       "  </thead>\n",
       "  <tbody>\n",
       "    <tr>\n",
       "      <th>0</th>\n",
       "      <td>1</td>\n",
       "      <td>14/08/2021</td>\n",
       "      <td>11:02:20</td>\n",
       "      <td>6</td>\n",
       "      <td>Over Dubai</td>\n",
       "      <td>fast</td>\n",
       "      <td>slow</td>\n",
       "      <td>static</td>\n",
       "      <td>sky</td>\n",
       "    </tr>\n",
       "    <tr>\n",
       "      <th>1</th>\n",
       "      <td>1</td>\n",
       "      <td>14/08/2021</td>\n",
       "      <td>19:41:28</td>\n",
       "      <td>41</td>\n",
       "      <td>Abstract - Canyon</td>\n",
       "      <td>fast</td>\n",
       "      <td>fast</td>\n",
       "      <td>changing</td>\n",
       "      <td>abstract</td>\n",
       "    </tr>\n",
       "    <tr>\n",
       "      <th>2</th>\n",
       "      <td>3</td>\n",
       "      <td>16/08/2021</td>\n",
       "      <td>11:08:39</td>\n",
       "      <td>5</td>\n",
       "      <td>Dog POV</td>\n",
       "      <td>fast</td>\n",
       "      <td>fast</td>\n",
       "      <td>changing</td>\n",
       "      <td>animal</td>\n",
       "    </tr>\n",
       "    <tr>\n",
       "      <th>3</th>\n",
       "      <td>4</td>\n",
       "      <td>17/08/2021</td>\n",
       "      <td>11:49:42</td>\n",
       "      <td>642</td>\n",
       "      <td>Black hole video</td>\n",
       "      <td>slow</td>\n",
       "      <td>slow</td>\n",
       "      <td>static</td>\n",
       "      <td>abstract</td>\n",
       "    </tr>\n",
       "    <tr>\n",
       "      <th>4</th>\n",
       "      <td>4</td>\n",
       "      <td>17/08/2021</td>\n",
       "      <td>19:16:06</td>\n",
       "      <td>500</td>\n",
       "      <td>Two guys on a boat</td>\n",
       "      <td>medium</td>\n",
       "      <td>medium</td>\n",
       "      <td>changing</td>\n",
       "      <td>water</td>\n",
       "    </tr>\n",
       "    <tr>\n",
       "      <th>...</th>\n",
       "      <td>...</td>\n",
       "      <td>...</td>\n",
       "      <td>...</td>\n",
       "      <td>...</td>\n",
       "      <td>...</td>\n",
       "      <td>...</td>\n",
       "      <td>...</td>\n",
       "      <td>...</td>\n",
       "      <td>...</td>\n",
       "    </tr>\n",
       "    <tr>\n",
       "      <th>361</th>\n",
       "      <td>169</td>\n",
       "      <td>19/02/2022</td>\n",
       "      <td>19:54:34</td>\n",
       "      <td>2</td>\n",
       "      <td>Abstract - Canyon</td>\n",
       "      <td>fast</td>\n",
       "      <td>fast</td>\n",
       "      <td>changing</td>\n",
       "      <td>abstract</td>\n",
       "    </tr>\n",
       "    <tr>\n",
       "      <th>362</th>\n",
       "      <td>169</td>\n",
       "      <td>19/02/2022</td>\n",
       "      <td>19:56:38</td>\n",
       "      <td>10</td>\n",
       "      <td>Beach video</td>\n",
       "      <td>slow</td>\n",
       "      <td>slow</td>\n",
       "      <td>static</td>\n",
       "      <td>nature</td>\n",
       "    </tr>\n",
       "    <tr>\n",
       "      <th>363</th>\n",
       "      <td>169</td>\n",
       "      <td>19/02/2022</td>\n",
       "      <td>20:05:50</td>\n",
       "      <td>6</td>\n",
       "      <td>Temple</td>\n",
       "      <td>slow</td>\n",
       "      <td>medium</td>\n",
       "      <td>changing</td>\n",
       "      <td>nature</td>\n",
       "    </tr>\n",
       "    <tr>\n",
       "      <th>364</th>\n",
       "      <td>169</td>\n",
       "      <td>19/02/2022</td>\n",
       "      <td>21:13:47</td>\n",
       "      <td>8</td>\n",
       "      <td>Shower falls</td>\n",
       "      <td>still</td>\n",
       "      <td>fast</td>\n",
       "      <td>static</td>\n",
       "      <td>nature</td>\n",
       "    </tr>\n",
       "    <tr>\n",
       "      <th>365</th>\n",
       "      <td>169</td>\n",
       "      <td>19/02/2022</td>\n",
       "      <td>21:16:13</td>\n",
       "      <td>3</td>\n",
       "      <td>Lions</td>\n",
       "      <td>cut</td>\n",
       "      <td>slow</td>\n",
       "      <td>changing</td>\n",
       "      <td>animal</td>\n",
       "    </tr>\n",
       "  </tbody>\n",
       "</table>\n",
       "<p>366 rows × 9 columns</p>\n",
       "</div>"
      ],
      "text/plain": [
       "     day        date      time  seconds               video camera_movement  \\\n",
       "0      1  14/08/2021  11:02:20        6          Over Dubai            fast   \n",
       "1      1  14/08/2021  19:41:28       41   Abstract - Canyon            fast   \n",
       "2      3  16/08/2021  11:08:39        5             Dog POV            fast   \n",
       "3      4  17/08/2021  11:49:42      642    Black hole video            slow   \n",
       "4      4  17/08/2021  19:16:06      500  Two guys on a boat          medium   \n",
       "..   ...         ...       ...      ...                 ...             ...   \n",
       "361  169  19/02/2022  19:54:34        2   Abstract - Canyon            fast   \n",
       "362  169  19/02/2022  19:56:38       10         Beach video            slow   \n",
       "363  169  19/02/2022  20:05:50        6              Temple            slow   \n",
       "364  169  19/02/2022  21:13:47        8        Shower falls           still   \n",
       "365  169  19/02/2022  21:16:13        3               Lions             cut   \n",
       "\n",
       "    content_movement     color content_type  \n",
       "0               slow    static          sky  \n",
       "1               fast  changing     abstract  \n",
       "2               fast  changing       animal  \n",
       "3               slow    static     abstract  \n",
       "4             medium  changing        water  \n",
       "..               ...       ...          ...  \n",
       "361             fast  changing     abstract  \n",
       "362             slow    static       nature  \n",
       "363           medium  changing       nature  \n",
       "364             fast    static       nature  \n",
       "365             slow  changing       animal  \n",
       "\n",
       "[366 rows x 9 columns]"
      ]
     },
     "execution_count": 12,
     "metadata": {},
     "output_type": "execute_result"
    }
   ],
   "source": [
    "df"
   ]
  },
  {
   "cell_type": "code",
   "execution_count": 13,
   "id": "e0519185",
   "metadata": {},
   "outputs": [
    {
     "data": {
      "image/png": "[encoded data removed]",
      "text/plain": [
       "<Figure size 432x288 with 1 Axes>"
      ]
     },
     "metadata": {
      "image/png": {
       "height": 293,
       "width": 388
      },
      "needs_background": "light"
     },
     "output_type": "display_data"
    },
    {
     "name": "stdout",
     "output_type": "stream",
     "text": [
      "\n"
     ]
    },
    {
     "data": {
      "image/png": "[encoded data removed]",
      "text/plain": [
       "<Figure size 432x288 with 1 Axes>"
      ]
     },
     "metadata": {
      "image/png": {
       "height": 293,
       "width": 388
      },
      "needs_background": "light"
     },
     "output_type": "display_data"
    },
    {
     "name": "stdout",
     "output_type": "stream",
     "text": [
      "\n"
     ]
    },
    {
     "data": {
      "image/png": "[encoded data removed]",
      "text/plain": [
       "<Figure size 432x288 with 1 Axes>"
      ]
     },
     "metadata": {
      "image/png": {
       "height": 298,
       "width": 388
      },
      "needs_background": "light"
     },
     "output_type": "display_data"
    },
    {
     "name": "stdout",
     "output_type": "stream",
     "text": [
      "\n"
     ]
    },
    {
     "data": {
      "image/png": "[encoded data removed]",
      "text/plain": [
       "<Figure size 432x288 with 1 Axes>"
      ]
     },
     "metadata": {
      "image/png": {
       "height": 293,
       "width": 388
      },
      "needs_background": "light"
     },
     "output_type": "display_data"
    },
    {
     "name": "stdout",
     "output_type": "stream",
     "text": [
      "\n"
     ]
    }
   ],
   "source": [
    "for cat in label_categories:\n",
    "    qual = df.groupby(cat)[\"seconds\"].agg([np.mean, sem])\n",
    "    qual = qual.sort_values(\"mean\")\n",
    "    qual.plot(kind = \"bar\", y = \"mean\", ylabel=\"seconds\", legend = False,\n",
    "              yerr = \"sem\")\n",
    "    plt.show()\n",
    "    print(\"\")"
   ]
  },
  {
   "cell_type": "code",
   "execution_count": 14,
   "id": "35cc8b78",
   "metadata": {},
   "outputs": [
    {
     "data": {
      "text/plain": [
       "197.2377049180328"
      ]
     },
     "execution_count": 14,
     "metadata": {},
     "output_type": "execute_result"
    }
   ],
   "source": [
    "df.seconds.mean()"
   ]
  },
  {
   "cell_type": "code",
   "execution_count": 15,
   "id": "e27f7135",
   "metadata": {},
   "outputs": [
    {
     "data": {
      "text/plain": [
       "1"
      ]
     },
     "execution_count": 15,
     "metadata": {},
     "output_type": "execute_result"
    }
   ],
   "source": [
    "df.seconds.min()"
   ]
  },
  {
   "cell_type": "code",
   "execution_count": 16,
   "id": "6d6949e8",
   "metadata": {},
   "outputs": [
    {
     "data": {
      "text/plain": [
       "7118"
      ]
     },
     "execution_count": 16,
     "metadata": {},
     "output_type": "execute_result"
    }
   ],
   "source": [
    "df.seconds.max()"
   ]
  },
  {
   "cell_type": "code",
   "execution_count": 21,
   "id": "da3f9540",
   "metadata": {
    "pycharm": {
     "name": "#%%\n"
    }
   },
   "outputs": [
    {
     "data": {
      "text/plain": [
       "(array([146.,  47.,  20.,  19.,  10.,   5.,   4.,   8.,   6.,   5.]),\n",
       " array([ 1. ,  5.7, 10.4, 15.1, 19.8, 24.5, 29.2, 33.9, 38.6, 43.3, 48. ]),\n",
       " <BarContainer object of 10 artists>)"
      ]
     },
     "execution_count": 21,
     "metadata": {},
     "output_type": "execute_result"
    },
    {
     "data": {
      "image/png": "[encoded data removed]",
      "text/plain": [
       "<Figure size 432x288 with 1 Axes>"
      ]
     },
     "metadata": {
      "image/png": {
       "height": 248,
       "width": 379
      },
      "needs_background": "light"
     },
     "output_type": "display_data"
    }
   ],
   "source": [
    "fig, ax = plt.subplots()\n",
    "ax.hist(df.seconds[df.seconds < 50])"
   ]
  },
  {
   "cell_type": "code",
   "execution_count": null,
   "id": "574f0197",
   "metadata": {},
   "outputs": [],
   "source": []
  }
 ],
 "metadata": {
  "kernelspec": {
   "display_name": "Python 3 (ipykernel)",
   "language": "python",
   "name": "python3"
  },
  "language_info": {
   "codemirror_mode": {
    "name": "ipython",
    "version": 3
   },
   "file_extension": ".py",
   "mimetype": "text/x-python",
   "name": "python",
   "nbconvert_exporter": "python",
   "pygments_lexer": "ipython3",
   "version": "3.9.13"
  },
  "toc": {
   "base_numbering": 1,
   "nav_menu": {},
   "number_sections": true,
   "sideBar": true,
   "skip_h1_title": false,
   "title_cell": "Table of Contents",
   "title_sidebar": "Contents",
   "toc_cell": false,
   "toc_position": {},
   "toc_section_display": true,
   "toc_window_display": false
  }
 },
 "nbformat": 4,
 "nbformat_minor": 5
}
