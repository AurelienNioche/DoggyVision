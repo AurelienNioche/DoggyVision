{
 "cells": [
  {
   "cell_type": "code",
   "execution_count": 1,
   "id": "a799f32b",
   "metadata": {},
   "outputs": [],
   "source": [
    "import pandas as pd\n",
    "import numpy as np"
   ]
  },
  {
   "cell_type": "code",
   "execution_count": 2,
   "id": "906528a1",
   "metadata": {},
   "outputs": [
    {
     "data": {
      "text/html": [
       "<div>\n",
       "<style scoped>\n",
       "    .dataframe tbody tr th:only-of-type {\n",
       "        vertical-align: middle;\n",
       "    }\n",
       "\n",
       "    .dataframe tbody tr th {\n",
       "        vertical-align: top;\n",
       "    }\n",
       "\n",
       "    .dataframe thead th {\n",
       "        text-align: right;\n",
       "    }\n",
       "</style>\n",
       "<table border=\"1\" class=\"dataframe\">\n",
       "  <thead>\n",
       "    <tr style=\"text-align: right;\">\n",
       "      <th></th>\n",
       "      <th>Day</th>\n",
       "      <th>Date</th>\n",
       "      <th>Time</th>\n",
       "      <th>Seconds</th>\n",
       "      <th>Video</th>\n",
       "    </tr>\n",
       "  </thead>\n",
       "  <tbody>\n",
       "    <tr>\n",
       "      <th>0</th>\n",
       "      <td>1</td>\n",
       "      <td>14/08/2021</td>\n",
       "      <td>11:02:20</td>\n",
       "      <td>6</td>\n",
       "      <td>Over Dubai</td>\n",
       "    </tr>\n",
       "    <tr>\n",
       "      <th>1</th>\n",
       "      <td>1</td>\n",
       "      <td>14/08/2021</td>\n",
       "      <td>19:41:28</td>\n",
       "      <td>41</td>\n",
       "      <td>Abstract - Canyon</td>\n",
       "    </tr>\n",
       "    <tr>\n",
       "      <th>2</th>\n",
       "      <td>3</td>\n",
       "      <td>16/08/2021</td>\n",
       "      <td>11:08:39</td>\n",
       "      <td>5</td>\n",
       "      <td>Dog POV</td>\n",
       "    </tr>\n",
       "    <tr>\n",
       "      <th>3</th>\n",
       "      <td>4</td>\n",
       "      <td>17/08/2021</td>\n",
       "      <td>11:49:42</td>\n",
       "      <td>642</td>\n",
       "      <td>Black hole video</td>\n",
       "    </tr>\n",
       "    <tr>\n",
       "      <th>4</th>\n",
       "      <td>4</td>\n",
       "      <td>17/08/2021</td>\n",
       "      <td>19:16:06</td>\n",
       "      <td>500</td>\n",
       "      <td>Two guys on a boat</td>\n",
       "    </tr>\n",
       "    <tr>\n",
       "      <th>...</th>\n",
       "      <td>...</td>\n",
       "      <td>...</td>\n",
       "      <td>...</td>\n",
       "      <td>...</td>\n",
       "      <td>...</td>\n",
       "    </tr>\n",
       "    <tr>\n",
       "      <th>361</th>\n",
       "      <td>169</td>\n",
       "      <td>19/02/2022</td>\n",
       "      <td>19:54:34</td>\n",
       "      <td>2</td>\n",
       "      <td>Abstract - Canyon</td>\n",
       "    </tr>\n",
       "    <tr>\n",
       "      <th>362</th>\n",
       "      <td>169</td>\n",
       "      <td>19/02/2022</td>\n",
       "      <td>19:56:38</td>\n",
       "      <td>10</td>\n",
       "      <td>Beach video</td>\n",
       "    </tr>\n",
       "    <tr>\n",
       "      <th>363</th>\n",
       "      <td>169</td>\n",
       "      <td>19/02/2022</td>\n",
       "      <td>20:05:50</td>\n",
       "      <td>6</td>\n",
       "      <td>Temple</td>\n",
       "    </tr>\n",
       "    <tr>\n",
       "      <th>364</th>\n",
       "      <td>169</td>\n",
       "      <td>19/02/2022</td>\n",
       "      <td>21:13:47</td>\n",
       "      <td>8</td>\n",
       "      <td>Shower falls</td>\n",
       "    </tr>\n",
       "    <tr>\n",
       "      <th>365</th>\n",
       "      <td>169</td>\n",
       "      <td>19/02/2022</td>\n",
       "      <td>21:16:13</td>\n",
       "      <td>3</td>\n",
       "      <td>Lions</td>\n",
       "    </tr>\n",
       "  </tbody>\n",
       "</table>\n",
       "<p>366 rows × 5 columns</p>\n",
       "</div>"
      ],
      "text/plain": [
       "     Day        Date      Time  Seconds               Video\n",
       "0      1  14/08/2021  11:02:20        6          Over Dubai\n",
       "1      1  14/08/2021  19:41:28       41   Abstract - Canyon\n",
       "2      3  16/08/2021  11:08:39        5             Dog POV\n",
       "3      4  17/08/2021  11:49:42      642    Black hole video\n",
       "4      4  17/08/2021  19:16:06      500  Two guys on a boat\n",
       "..   ...         ...       ...      ...                 ...\n",
       "361  169  19/02/2022  19:54:34        2   Abstract - Canyon\n",
       "362  169  19/02/2022  19:56:38       10         Beach video\n",
       "363  169  19/02/2022  20:05:50        6              Temple\n",
       "364  169  19/02/2022  21:13:47        8        Shower falls\n",
       "365  169  19/02/2022  21:16:13        3               Lions\n",
       "\n",
       "[366 rows x 5 columns]"
      ]
     },
     "execution_count": 2,
     "metadata": {},
     "output_type": "execute_result"
    }
   ],
   "source": [
    "df = pd.read_csv(\"data/data.csv\", index_col=0)\n",
    "df = df.drop(df[df.Time == \"/\"].index)\n",
    "df = df.drop(df[df.Video == \"/\"].index)\n",
    "df = df.dropna()\n",
    "df = df.reset_index()\n",
    "df.Seconds = pd.to_numeric(df.Seconds)\n",
    "df"
   ]
  },
  {
   "cell_type": "code",
   "execution_count": 3,
   "id": "cad4215f",
   "metadata": {},
   "outputs": [
    {
     "data": {
      "text/plain": [
       "23"
      ]
     },
     "execution_count": 3,
     "metadata": {},
     "output_type": "execute_result"
    }
   ],
   "source": [
    "n_video = len(df.Video.unique())\n",
    "n_video"
   ]
  },
  {
   "cell_type": "code",
   "execution_count": 4,
   "id": "e5b25a82",
   "metadata": {
    "scrolled": true
   },
   "outputs": [
    {
     "data": {
      "text/html": [
       "<div>\n",
       "<style scoped>\n",
       "    .dataframe tbody tr th:only-of-type {\n",
       "        vertical-align: middle;\n",
       "    }\n",
       "\n",
       "    .dataframe tbody tr th {\n",
       "        vertical-align: top;\n",
       "    }\n",
       "\n",
       "    .dataframe thead th {\n",
       "        text-align: right;\n",
       "    }\n",
       "</style>\n",
       "<table border=\"1\" class=\"dataframe\">\n",
       "  <thead>\n",
       "    <tr style=\"text-align: right;\">\n",
       "      <th></th>\n",
       "      <th>Categories</th>\n",
       "      <th>Videos</th>\n",
       "    </tr>\n",
       "  </thead>\n",
       "  <tbody>\n",
       "    <tr>\n",
       "      <th>0</th>\n",
       "      <td>Abstract</td>\n",
       "      <td>Abstract - Canyon</td>\n",
       "    </tr>\n",
       "    <tr>\n",
       "      <th>1</th>\n",
       "      <td>Abstract</td>\n",
       "      <td>Dreams of Dali</td>\n",
       "    </tr>\n",
       "    <tr>\n",
       "      <th>2</th>\n",
       "      <td>Abstract</td>\n",
       "      <td>Black hole video</td>\n",
       "    </tr>\n",
       "    <tr>\n",
       "      <th>3</th>\n",
       "      <td>Animals</td>\n",
       "      <td>Lions</td>\n",
       "    </tr>\n",
       "    <tr>\n",
       "      <th>4</th>\n",
       "      <td>Animals</td>\n",
       "      <td>Rhinos</td>\n",
       "    </tr>\n",
       "    <tr>\n",
       "      <th>5</th>\n",
       "      <td>Animals</td>\n",
       "      <td>Dog shelter</td>\n",
       "    </tr>\n",
       "    <tr>\n",
       "      <th>6</th>\n",
       "      <td>Animals</td>\n",
       "      <td>Dog sled</td>\n",
       "    </tr>\n",
       "    <tr>\n",
       "      <th>7</th>\n",
       "      <td>Animals</td>\n",
       "      <td>Dog POV</td>\n",
       "    </tr>\n",
       "    <tr>\n",
       "      <th>8</th>\n",
       "      <td>City</td>\n",
       "      <td>NYC</td>\n",
       "    </tr>\n",
       "    <tr>\n",
       "      <th>9</th>\n",
       "      <td>City</td>\n",
       "      <td>Barcelona</td>\n",
       "    </tr>\n",
       "    <tr>\n",
       "      <th>10</th>\n",
       "      <td>Nature</td>\n",
       "      <td>Nature sounds</td>\n",
       "    </tr>\n",
       "    <tr>\n",
       "      <th>11</th>\n",
       "      <td>Nature</td>\n",
       "      <td>Angel falls</td>\n",
       "    </tr>\n",
       "    <tr>\n",
       "      <th>12</th>\n",
       "      <td>Nature</td>\n",
       "      <td>Bavarian Alps</td>\n",
       "    </tr>\n",
       "    <tr>\n",
       "      <th>13</th>\n",
       "      <td>Nature</td>\n",
       "      <td>Shower falls</td>\n",
       "    </tr>\n",
       "    <tr>\n",
       "      <th>14</th>\n",
       "      <td>Nature</td>\n",
       "      <td>Beach video</td>\n",
       "    </tr>\n",
       "    <tr>\n",
       "      <th>15</th>\n",
       "      <td>Nature</td>\n",
       "      <td>Temple</td>\n",
       "    </tr>\n",
       "    <tr>\n",
       "      <th>16</th>\n",
       "      <td>Nature</td>\n",
       "      <td>London park</td>\n",
       "    </tr>\n",
       "    <tr>\n",
       "      <th>17</th>\n",
       "      <td>Water</td>\n",
       "      <td>Blue whale</td>\n",
       "    </tr>\n",
       "    <tr>\n",
       "      <th>18</th>\n",
       "      <td>Water</td>\n",
       "      <td>Dolphins playing</td>\n",
       "    </tr>\n",
       "    <tr>\n",
       "      <th>19</th>\n",
       "      <td>Water</td>\n",
       "      <td>Sea video</td>\n",
       "    </tr>\n",
       "    <tr>\n",
       "      <th>20</th>\n",
       "      <td>Water</td>\n",
       "      <td>Two guys on a boat</td>\n",
       "    </tr>\n",
       "    <tr>\n",
       "      <th>21</th>\n",
       "      <td>Sky</td>\n",
       "      <td>Flying into the sky</td>\n",
       "    </tr>\n",
       "    <tr>\n",
       "      <th>22</th>\n",
       "      <td>Sky</td>\n",
       "      <td>Over Dubai</td>\n",
       "    </tr>\n",
       "  </tbody>\n",
       "</table>\n",
       "</div>"
      ],
      "text/plain": [
       "   Categories               Videos\n",
       "0    Abstract    Abstract - Canyon\n",
       "1    Abstract       Dreams of Dali\n",
       "2    Abstract     Black hole video\n",
       "3     Animals                Lions\n",
       "4     Animals               Rhinos\n",
       "5     Animals          Dog shelter\n",
       "6     Animals             Dog sled\n",
       "7     Animals              Dog POV\n",
       "8        City                  NYC\n",
       "9        City            Barcelona\n",
       "10     Nature        Nature sounds\n",
       "11     Nature          Angel falls\n",
       "12     Nature        Bavarian Alps\n",
       "13     Nature         Shower falls\n",
       "14     Nature          Beach video\n",
       "15     Nature               Temple\n",
       "16     Nature          London park\n",
       "17      Water           Blue whale\n",
       "18      Water     Dolphins playing\n",
       "19      Water            Sea video\n",
       "20      Water   Two guys on a boat\n",
       "21        Sky  Flying into the sky\n",
       "22        Sky           Over Dubai"
      ]
     },
     "execution_count": 4,
     "metadata": {},
     "output_type": "execute_result"
    }
   ],
   "source": [
    "df_labels = pd.read_csv(\"data/video_labels.csv\")\n",
    "df_labels"
   ]
  },
  {
   "cell_type": "code",
   "execution_count": 5,
   "id": "5655a4c5",
   "metadata": {},
   "outputs": [
    {
     "data": {
      "text/plain": [
       "{'Abstract - Canyon': 'Abstract',\n",
       " 'Dreams of Dali': 'Abstract',\n",
       " 'Black hole video': 'Abstract',\n",
       " 'Lions': 'Animals',\n",
       " 'Rhinos': 'Animals',\n",
       " 'Dog shelter': 'Animals',\n",
       " 'Dog sled': 'Animals',\n",
       " 'Dog POV': 'Animals',\n",
       " 'NYC': 'City',\n",
       " 'Barcelona': 'City',\n",
       " 'Nature sounds': 'Nature',\n",
       " 'Angel falls': 'Nature',\n",
       " 'Bavarian Alps': 'Nature',\n",
       " 'Shower falls': 'Nature',\n",
       " 'Beach video': 'Nature',\n",
       " 'Temple': 'Nature',\n",
       " 'London park': 'Nature',\n",
       " 'Blue whale': 'Water',\n",
       " 'Dolphins playing': 'Water',\n",
       " 'Sea video': 'Water',\n",
       " 'Two guys on a boat': 'Water',\n",
       " 'Flying into the sky': 'Sky',\n",
       " 'Over Dubai': 'Sky'}"
      ]
     },
     "execution_count": 5,
     "metadata": {},
     "output_type": "execute_result"
    }
   ],
   "source": [
    "labels = dict(zip(df_labels.Videos, df_labels.Categories))\n",
    "labels"
   ]
  },
  {
   "cell_type": "code",
   "execution_count": 6,
   "id": "1ca90575",
   "metadata": {},
   "outputs": [],
   "source": [
    "video_list = df.Video.unique()\n",
    "video_labels = np.asarray(df_labels.Videos)"
   ]
  },
  {
   "cell_type": "code",
   "execution_count": 7,
   "id": "7c1d4b7e",
   "metadata": {},
   "outputs": [],
   "source": [
    "for v in video_list:\n",
    "    if v not in video_labels:\n",
    "        print(v)"
   ]
  },
  {
   "cell_type": "code",
   "execution_count": 8,
   "id": "c28f2a80",
   "metadata": {},
   "outputs": [
    {
     "data": {
      "text/plain": [
       "Video\n",
       "Abstract - Canyon       60.000000\n",
       "Angel falls             20.454545\n",
       "Barcelona               64.555556\n",
       "Bavarian Alps          371.769231\n",
       "Beach video            548.529412\n",
       "Black hole video       161.000000\n",
       "Blue whale              40.300000\n",
       "Dog POV                 16.444444\n",
       "Dog shelter            101.111111\n",
       "Dog sled               132.291667\n",
       "Dolphins playing        48.380952\n",
       "Dreams of Dali         207.833333\n",
       "Flying into the sky    431.500000\n",
       "Lions                   27.107143\n",
       "London park            362.200000\n",
       "NYC                    297.357143\n",
       "Nature sounds          157.428571\n",
       "Over Dubai              52.500000\n",
       "Rhinos                 232.875000\n",
       "Sea video              226.440000\n",
       "Shower falls           336.200000\n",
       "Temple                 337.529412\n",
       "Two guys on a boat     359.789474\n",
       "Name: Seconds, dtype: float64"
      ]
     },
     "execution_count": 8,
     "metadata": {},
     "output_type": "execute_result"
    }
   ],
   "source": [
    "df.groupby('Video')['Seconds'].mean()"
   ]
  },
  {
   "cell_type": "code",
   "execution_count": 9,
   "id": "4b99e1a7",
   "metadata": {},
   "outputs": [
    {
     "data": {
      "image/png": "[encoded data removed]",
      "text/plain": [
       "<Figure size 432x288 with 1 Axes>"
      ]
     },
     "metadata": {
      "image/png": {
       "height": 349,
       "width": 375
      },
      "needs_background": "light"
     },
     "output_type": "display_data"
    }
   ],
   "source": [
    "df.groupby('Video')['Seconds'].mean().plot.bar();"
   ]
  },
  {
   "cell_type": "code",
   "execution_count": 10,
   "id": "77eb8544",
   "metadata": {},
   "outputs": [
    {
     "data": {
      "image/png": "[encoded data removed]",
      "text/plain": [
       "<Figure size 432x288 with 1 Axes>"
      ]
     },
     "metadata": {
      "image/png": {
       "height": 349,
       "width": 375
      },
      "needs_background": "light"
     },
     "output_type": "display_data"
    }
   ],
   "source": [
    "df.groupby('Video')['Seconds'].mean().sort_values().plot.bar();"
   ]
  },
  {
   "cell_type": "code",
   "execution_count": 11,
   "id": "8170c098",
   "metadata": {},
   "outputs": [
    {
     "data": {
      "text/plain": [
       "8.333333333333334"
      ]
     },
     "execution_count": 11,
     "metadata": {},
     "output_type": "execute_result"
    }
   ],
   "source": [
    "500/ 60."
   ]
  },
  {
   "cell_type": "code",
   "execution_count": 12,
   "id": "3881acd3",
   "metadata": {},
   "outputs": [],
   "source": [
    "for index, row in df.iterrows():\n",
    "    df.loc[index, 'Category'] = labels[row.Video]"
   ]
  },
  {
   "cell_type": "code",
   "execution_count": 13,
   "id": "8c5ff69f",
   "metadata": {},
   "outputs": [
    {
     "data": {
      "text/html": [
       "<div>\n",
       "<style scoped>\n",
       "    .dataframe tbody tr th:only-of-type {\n",
       "        vertical-align: middle;\n",
       "    }\n",
       "\n",
       "    .dataframe tbody tr th {\n",
       "        vertical-align: top;\n",
       "    }\n",
       "\n",
       "    .dataframe thead th {\n",
       "        text-align: right;\n",
       "    }\n",
       "</style>\n",
       "<table border=\"1\" class=\"dataframe\">\n",
       "  <thead>\n",
       "    <tr style=\"text-align: right;\">\n",
       "      <th></th>\n",
       "      <th>Day</th>\n",
       "      <th>Date</th>\n",
       "      <th>Time</th>\n",
       "      <th>Seconds</th>\n",
       "      <th>Video</th>\n",
       "      <th>Category</th>\n",
       "    </tr>\n",
       "  </thead>\n",
       "  <tbody>\n",
       "    <tr>\n",
       "      <th>0</th>\n",
       "      <td>1</td>\n",
       "      <td>14/08/2021</td>\n",
       "      <td>11:02:20</td>\n",
       "      <td>6</td>\n",
       "      <td>Over Dubai</td>\n",
       "      <td>Sky</td>\n",
       "    </tr>\n",
       "    <tr>\n",
       "      <th>1</th>\n",
       "      <td>1</td>\n",
       "      <td>14/08/2021</td>\n",
       "      <td>19:41:28</td>\n",
       "      <td>41</td>\n",
       "      <td>Abstract - Canyon</td>\n",
       "      <td>Abstract</td>\n",
       "    </tr>\n",
       "    <tr>\n",
       "      <th>2</th>\n",
       "      <td>3</td>\n",
       "      <td>16/08/2021</td>\n",
       "      <td>11:08:39</td>\n",
       "      <td>5</td>\n",
       "      <td>Dog POV</td>\n",
       "      <td>Animals</td>\n",
       "    </tr>\n",
       "    <tr>\n",
       "      <th>3</th>\n",
       "      <td>4</td>\n",
       "      <td>17/08/2021</td>\n",
       "      <td>11:49:42</td>\n",
       "      <td>642</td>\n",
       "      <td>Black hole video</td>\n",
       "      <td>Abstract</td>\n",
       "    </tr>\n",
       "    <tr>\n",
       "      <th>4</th>\n",
       "      <td>4</td>\n",
       "      <td>17/08/2021</td>\n",
       "      <td>19:16:06</td>\n",
       "      <td>500</td>\n",
       "      <td>Two guys on a boat</td>\n",
       "      <td>Water</td>\n",
       "    </tr>\n",
       "    <tr>\n",
       "      <th>...</th>\n",
       "      <td>...</td>\n",
       "      <td>...</td>\n",
       "      <td>...</td>\n",
       "      <td>...</td>\n",
       "      <td>...</td>\n",
       "      <td>...</td>\n",
       "    </tr>\n",
       "    <tr>\n",
       "      <th>361</th>\n",
       "      <td>169</td>\n",
       "      <td>19/02/2022</td>\n",
       "      <td>19:54:34</td>\n",
       "      <td>2</td>\n",
       "      <td>Abstract - Canyon</td>\n",
       "      <td>Abstract</td>\n",
       "    </tr>\n",
       "    <tr>\n",
       "      <th>362</th>\n",
       "      <td>169</td>\n",
       "      <td>19/02/2022</td>\n",
       "      <td>19:56:38</td>\n",
       "      <td>10</td>\n",
       "      <td>Beach video</td>\n",
       "      <td>Nature</td>\n",
       "    </tr>\n",
       "    <tr>\n",
       "      <th>363</th>\n",
       "      <td>169</td>\n",
       "      <td>19/02/2022</td>\n",
       "      <td>20:05:50</td>\n",
       "      <td>6</td>\n",
       "      <td>Temple</td>\n",
       "      <td>Nature</td>\n",
       "    </tr>\n",
       "    <tr>\n",
       "      <th>364</th>\n",
       "      <td>169</td>\n",
       "      <td>19/02/2022</td>\n",
       "      <td>21:13:47</td>\n",
       "      <td>8</td>\n",
       "      <td>Shower falls</td>\n",
       "      <td>Nature</td>\n",
       "    </tr>\n",
       "    <tr>\n",
       "      <th>365</th>\n",
       "      <td>169</td>\n",
       "      <td>19/02/2022</td>\n",
       "      <td>21:16:13</td>\n",
       "      <td>3</td>\n",
       "      <td>Lions</td>\n",
       "      <td>Animals</td>\n",
       "    </tr>\n",
       "  </tbody>\n",
       "</table>\n",
       "<p>366 rows × 6 columns</p>\n",
       "</div>"
      ],
      "text/plain": [
       "     Day        Date      Time  Seconds               Video  Category\n",
       "0      1  14/08/2021  11:02:20        6          Over Dubai       Sky\n",
       "1      1  14/08/2021  19:41:28       41   Abstract - Canyon  Abstract\n",
       "2      3  16/08/2021  11:08:39        5             Dog POV   Animals\n",
       "3      4  17/08/2021  11:49:42      642    Black hole video  Abstract\n",
       "4      4  17/08/2021  19:16:06      500  Two guys on a boat     Water\n",
       "..   ...         ...       ...      ...                 ...       ...\n",
       "361  169  19/02/2022  19:54:34        2   Abstract - Canyon  Abstract\n",
       "362  169  19/02/2022  19:56:38       10         Beach video    Nature\n",
       "363  169  19/02/2022  20:05:50        6              Temple    Nature\n",
       "364  169  19/02/2022  21:13:47        8        Shower falls    Nature\n",
       "365  169  19/02/2022  21:16:13        3               Lions   Animals\n",
       "\n",
       "[366 rows x 6 columns]"
      ]
     },
     "execution_count": 13,
     "metadata": {},
     "output_type": "execute_result"
    }
   ],
   "source": [
    "df"
   ]
  },
  {
   "cell_type": "code",
   "execution_count": 14,
   "id": "49cb0edb",
   "metadata": {},
   "outputs": [
    {
     "data": {
      "image/png": "[encoded data removed]",
      "text/plain": [
       "<Figure size 432x288 with 1 Axes>"
      ]
     },
     "metadata": {
      "image/png": {
       "height": 294,
       "width": 375
      },
      "needs_background": "light"
     },
     "output_type": "display_data"
    }
   ],
   "source": [
    "df.groupby('Category')['Seconds'].mean().sort_values().plot.bar();"
   ]
  },
  {
   "cell_type": "code",
   "execution_count": 15,
   "id": "fbed8c5f",
   "metadata": {},
   "outputs": [
    {
     "data": {
      "text/plain": [
       "Category\n",
       "Abstract    124.600000\n",
       "Animals      89.252874\n",
       "City        206.260870\n",
       "Nature      322.175439\n",
       "Sky         155.863636\n",
       "Water       185.546667\n",
       "Name: Seconds, dtype: float64"
      ]
     },
     "execution_count": 15,
     "metadata": {},
     "output_type": "execute_result"
    }
   ],
   "source": [
    "df.groupby('Category')['Seconds'].mean()"
   ]
  },
  {
   "cell_type": "code",
   "execution_count": 16,
   "id": "1d19e864",
   "metadata": {},
   "outputs": [
    {
     "data": {
      "text/plain": [
       "Category\n",
       "Abstract     237.129270\n",
       "Animals      259.233809\n",
       "City         340.963237\n",
       "Nature      1065.850504\n",
       "Sky          546.174601\n",
       "Water        658.012000\n",
       "Name: Seconds, dtype: float64"
      ]
     },
     "execution_count": 16,
     "metadata": {},
     "output_type": "execute_result"
    }
   ],
   "source": [
    "df.groupby('Category')['Seconds'].std()"
   ]
  },
  {
   "cell_type": "code",
   "execution_count": 35,
   "id": "649f8611",
   "metadata": {},
   "outputs": [],
   "source": [
    "from scipy.stats import sem"
   ]
  },
  {
   "cell_type": "code",
   "execution_count": 36,
   "id": "e0519185",
   "metadata": {},
   "outputs": [
    {
     "data": {
      "text/html": [
       "<div>\n",
       "<style scoped>\n",
       "    .dataframe tbody tr th:only-of-type {\n",
       "        vertical-align: middle;\n",
       "    }\n",
       "\n",
       "    .dataframe tbody tr th {\n",
       "        vertical-align: top;\n",
       "    }\n",
       "\n",
       "    .dataframe thead th {\n",
       "        text-align: right;\n",
       "    }\n",
       "</style>\n",
       "<table border=\"1\" class=\"dataframe\">\n",
       "  <thead>\n",
       "    <tr style=\"text-align: right;\">\n",
       "      <th></th>\n",
       "      <th>mean</th>\n",
       "      <th>sem</th>\n",
       "    </tr>\n",
       "    <tr>\n",
       "      <th>Category</th>\n",
       "      <th></th>\n",
       "      <th></th>\n",
       "    </tr>\n",
       "  </thead>\n",
       "  <tbody>\n",
       "    <tr>\n",
       "      <th>Animals</th>\n",
       "      <td>89.252874</td>\n",
       "      <td>27.792782</td>\n",
       "    </tr>\n",
       "    <tr>\n",
       "      <th>Abstract</th>\n",
       "      <td>124.600000</td>\n",
       "      <td>35.349145</td>\n",
       "    </tr>\n",
       "    <tr>\n",
       "      <th>Sky</th>\n",
       "      <td>155.863636</td>\n",
       "      <td>116.444816</td>\n",
       "    </tr>\n",
       "    <tr>\n",
       "      <th>Water</th>\n",
       "      <td>185.546667</td>\n",
       "      <td>75.980681</td>\n",
       "    </tr>\n",
       "    <tr>\n",
       "      <th>City</th>\n",
       "      <td>206.260870</td>\n",
       "      <td>71.095750</td>\n",
       "    </tr>\n",
       "    <tr>\n",
       "      <th>Nature</th>\n",
       "      <td>322.175439</td>\n",
       "      <td>99.826046</td>\n",
       "    </tr>\n",
       "  </tbody>\n",
       "</table>\n",
       "</div>"
      ],
      "text/plain": [
       "                mean         sem\n",
       "Category                        \n",
       "Animals    89.252874   27.792782\n",
       "Abstract  124.600000   35.349145\n",
       "Sky       155.863636  116.444816\n",
       "Water     185.546667   75.980681\n",
       "City      206.260870   71.095750\n",
       "Nature    322.175439   99.826046"
      ]
     },
     "execution_count": 36,
     "metadata": {},
     "output_type": "execute_result"
    }
   ],
   "source": [
    "qual = df.groupby(\"Category\")[\"Seconds\"].agg([np.mean, sem])\n",
    "qual = qual.sort_values(\"mean\")\n",
    "qual"
   ]
  },
  {
   "cell_type": "code",
   "execution_count": 38,
   "id": "4294750a",
   "metadata": {},
   "outputs": [
    {
     "data": {
      "image/png": "[encoded data removed]",
      "text/plain": [
       "<Figure size 432x288 with 1 Axes>"
      ]
     },
     "metadata": {
      "image/png": {
       "height": 294,
       "width": 388
      },
      "needs_background": "light"
     },
     "output_type": "display_data"
    }
   ],
   "source": [
    "qual.plot(kind = \"bar\", y = \"mean\", ylabel=\"seconds\", legend = False,\n",
    "          yerr = \"sem\");"
   ]
  }
 ],
 "metadata": {
  "kernelspec": {
   "display_name": "Python 3 (ipykernel)",
   "language": "python",
   "name": "python3"
  },
  "language_info": {
   "codemirror_mode": {
    "name": "ipython",
    "version": 3
   },
   "file_extension": ".py",
   "mimetype": "text/x-python",
   "name": "python",
   "nbconvert_exporter": "python",
   "pygments_lexer": "ipython3",
   "version": "3.9.13"
  },
  "toc": {
   "base_numbering": 1,
   "nav_menu": {},
   "number_sections": true,
   "sideBar": true,
   "skip_h1_title": false,
   "title_cell": "Table of Contents",
   "title_sidebar": "Contents",
   "toc_cell": false,
   "toc_position": {},
   "toc_section_display": true,
   "toc_window_display": false
  }
 },
 "nbformat": 4,
 "nbformat_minor": 5
}
